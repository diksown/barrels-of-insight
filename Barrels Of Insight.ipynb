{
 "cells": [
  {
   "attachments": {},
   "cell_type": "markdown",
   "metadata": {},
   "source": [
    "# **SCC0277:** Desafio de Regressão\n",
    "\n",
    "Dikson F. Santos `<dikson@usp.br>`\n",
    "\n",
    "`(github.com/diksown/barrels-of-insight)`\n"
   ]
  },
  {
   "attachments": {},
   "cell_type": "markdown",
   "metadata": {},
   "source": [
    "# Descrição\n",
    "\n",
    "Utilizando a metodologia básica de um projeto para ciência de dados, implemente possíveis soluções para o seguinte estudo de caso (https://www.kaggle.com/datasets/podsyp/sales-in-craft-beer-bar). Desenvolva e implemente métodos que se propõem a estimar a variável de saída.\n",
    "\n",
    "Em seu projeto deverá constar uma análise detalhada do dataset e descrição das transformações de dados realizadas com suas respectivas justificativas. Adicionalmente, crie um baseline com as técnicas contidas nesta aula. Como forma de superar este baseline, pesquise por métodos e técnicas mais complexas. Você deverá entregar um relatório com os seguintes itens:\n",
    "\n",
    "Descrição do problema e análise dos dados\n",
    "Descrição das técnicas utilizadas\n",
    "Interpretação dos resultados obtidos\n",
    "Conclusão\n",
    "Apêndice (descrição das técnicas de Regressão apresentadas pelos colegas durante os seminários)\n",
    "Adicionalmente, no relatório coloque a url de seu repositório on-line para consulta. Seu código deve estar comentado!!\n",
    "\n",
    "Sistema de Avaliação:\n",
    "\n",
    "- (1,0) Qualidade do relatório\n",
    "- (1,0) Análise dos dados e descrição do problema\n",
    "- (3,0) Implementação da solução\n",
    "- (3,0) Interpretação dos resultados\n",
    "- (2,0) Resumo das técnicas dos seminários de Regressão\n"
   ]
  },
  {
   "attachments": {},
   "cell_type": "markdown",
   "metadata": {},
   "source": [
    "# Introdução\n"
   ]
  },
  {
   "attachments": {},
   "cell_type": "markdown",
   "metadata": {},
   "source": [
    "O objetivo desse trabalho é desenvolver um modelo de machine learning para auxiliar na gestão do bar de cerveja Nelson Sauvin. Localizado no centro de Yekaterinburg, o bar se destaca por oferecer uma ampla variedade de cervejas interessantes de cervejarias new wave europeias, americanas e russas. Além disso, o estabelecimento conta com um estoque diversificado de garrafas e uma seleção dos melhores queijos regionais.\n"
   ]
  },
  {
   "attachments": {},
   "cell_type": "markdown",
   "metadata": {},
   "source": [
    "# Análise Exploratória de Dados e Pré-processamento\n"
   ]
  },
  {
   "cell_type": "code",
   "execution_count": null,
   "metadata": {},
   "outputs": [],
   "source": [
    "import pandas as pd\n",
    "import matplotlib.pyplot as plt\n",
    "import seaborn as sns\n",
    "import numpy as np\n",
    "from sklearn.model_selection import cross_validate\n",
    "from sklearn.metrics import mean_squared_error, r2_score\n",
    "from sklearn.linear_model import LinearRegression, Ridge, Lasso, ElasticNet\n",
    "from sklearn.ensemble import RandomForestRegressor, BaggingRegressor, AdaBoostRegressor\n",
    "from sklearn.tree import DecisionTreeRegressor"
   ]
  },
  {
   "cell_type": "code",
   "execution_count": null,
   "metadata": {},
   "outputs": [],
   "source": [
    "sns.set_theme()"
   ]
  },
  {
   "cell_type": "code",
   "execution_count": null,
   "metadata": {},
   "outputs": [],
   "source": [
    "product_range = pd.read_csv(\"./data/Product_range.csv\")\n",
    "transactions = pd.read_csv(\"./data/Transactions.csv\")"
   ]
  },
  {
   "cell_type": "code",
   "execution_count": null,
   "metadata": {},
   "outputs": [],
   "source": [
    "product_range.head(3)"
   ]
  },
  {
   "cell_type": "code",
   "execution_count": null,
   "metadata": {},
   "outputs": [],
   "source": [
    "transactions.head(3)"
   ]
  },
  {
   "cell_type": "code",
   "execution_count": null,
   "metadata": {},
   "outputs": [],
   "source": [
    "product_range.info()"
   ]
  },
  {
   "cell_type": "code",
   "execution_count": null,
   "metadata": {},
   "outputs": [],
   "source": [
    "transactions.info()"
   ]
  },
  {
   "cell_type": "code",
   "execution_count": null,
   "metadata": {},
   "outputs": [],
   "source": [
    "df = pd.merge(transactions, product_range, on=\"Product_code\", how=\"inner\")"
   ]
  },
  {
   "cell_type": "code",
   "execution_count": null,
   "metadata": {},
   "outputs": [],
   "source": [
    "df.head(3)"
   ]
  },
  {
   "cell_type": "code",
   "execution_count": null,
   "metadata": {},
   "outputs": [],
   "source": [
    "df.info()"
   ]
  },
  {
   "cell_type": "code",
   "execution_count": null,
   "metadata": {},
   "outputs": [],
   "source": [
    "df = df.dropna()\n",
    "df.info()"
   ]
  },
  {
   "cell_type": "code",
   "execution_count": null,
   "metadata": {},
   "outputs": [],
   "source": [
    "def show_graph(col_name, description):\n",
    "    category_count = df[col_name].value_counts().head(5)\n",
    "    counts = category_count\n",
    "    plt.figure(figsize=(8, 6))\n",
    "    sns.barplot(x=counts.values, y=counts.index)\n",
    "    plt.title(description)\n",
    "    plt.xlabel(\"Frequência\")\n",
    "    plt.ylabel(None)\n",
    "    plt.show()"
   ]
  },
  {
   "cell_type": "code",
   "execution_count": null,
   "metadata": {},
   "outputs": [],
   "source": [
    "show_graph(\"Vendor_code\", \"Código do vendedor\")"
   ]
  },
  {
   "cell_type": "code",
   "execution_count": null,
   "metadata": {},
   "outputs": [],
   "source": [
    "show_graph(\"Name\", \"Produto\")"
   ]
  },
  {
   "cell_type": "code",
   "execution_count": null,
   "metadata": {},
   "outputs": [],
   "source": [
    "show_graph(\"Country_of_Origin\", \"País de origem\")"
   ]
  },
  {
   "cell_type": "code",
   "execution_count": null,
   "metadata": {},
   "outputs": [],
   "source": [
    "# Check the correlation matrix\n",
    "numeric_columns = df.select_dtypes(include=[np.number])\n",
    "\n",
    "correlation_matrix = numeric_columns.corr()\n",
    "\n",
    "# Print the correlation matrix\n",
    "# print(correlation_matrix)\n",
    "# Create a heatmap plot\n",
    "plt.figure(figsize=(10, 8))\n",
    "sns.heatmap(correlation_matrix, annot=True, cmap=\"coolwarm\", linewidths=0.5)\n",
    "plt.title(\"Correlation Matrix\")\n",
    "plt.show()"
   ]
  },
  {
   "attachments": {},
   "cell_type": "markdown",
   "metadata": {},
   "source": [
    "# Treinamento do Modelo\n"
   ]
  },
  {
   "cell_type": "code",
   "execution_count": null,
   "metadata": {},
   "outputs": [],
   "source": [
    "def evaluate_regressor(regressor):\n",
    "    numeric_columns = df.select_dtypes(include=[np.number])\n",
    "    to_predict = \"Sale_amount\"\n",
    "    x, y = numeric_columns.drop(to_predict, axis=1), numeric_columns[to_predict]\n",
    "    scores = cross_validate(\n",
    "        regressor,\n",
    "        x,\n",
    "        y,\n",
    "        cv=5,\n",
    "        scoring=(\"neg_mean_squared_error\", \"r2\"),\n",
    "    )\n",
    "    mse = scores[\"test_neg_mean_squared_error\"].mean()\n",
    "    r2 = scores[\"test_r2\"].mean()\n",
    "    print(f\"Mean Squared Error: {mse:.2f}\")\n",
    "    print(f\"R2 Score: {r2:.2f}\")"
   ]
  },
  {
   "cell_type": "code",
   "execution_count": null,
   "metadata": {},
   "outputs": [],
   "source": [
    "# Regressão Linear\n",
    "evaluate_regressor(LinearRegression())"
   ]
  }
 ],
 "metadata": {
  "kernelspec": {
   "display_name": "barrels-of-insight-Eifw_nvS-py3.10",
   "language": "python",
   "name": "python3"
  },
  "language_info": {
   "codemirror_mode": {
    "name": "ipython",
    "version": 3
   },
   "file_extension": ".py",
   "mimetype": "text/x-python",
   "name": "python",
   "nbconvert_exporter": "python",
   "pygments_lexer": "ipython3",
   "version": "3.10.6"
  },
  "orig_nbformat": 4
 },
 "nbformat": 4,
 "nbformat_minor": 2
}
